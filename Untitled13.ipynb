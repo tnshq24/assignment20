{
 "cells": [
  {
   "cell_type": "code",
   "execution_count": 1,
   "id": "23197920-3c37-4a1a-a601-7305a5814996",
   "metadata": {},
   "outputs": [],
   "source": [
    "#Q1\n",
    "# The three measures of central tendency are:-\n",
    "# Mean\n",
    "# Median\n",
    "# Mode"
   ]
  },
  {
   "cell_type": "code",
   "execution_count": 4,
   "id": "b7c988ee-110a-430b-bf79-ba39c47f102f",
   "metadata": {},
   "outputs": [],
   "source": [
    "#Q2\n",
    "# Mean: Mean is said to be the average of all the numbers.\n",
    "# Median: Median is the middle value of the numbers and in case of even numbers its the average of the middle two.\n",
    "# Mode: Mode is the number whose frequency is the highest in the set of numbers.\n",
    "# They re used to get the information about the set of values through which we can get the insights like average, middle value and\n",
    "# most frequent values."
   ]
  },
  {
   "cell_type": "code",
   "execution_count": 5,
   "id": "3342c29d-a68b-4266-b168-eeecdb9762b8",
   "metadata": {},
   "outputs": [],
   "source": [
    "#Q3\n",
    "import pandas as pd"
   ]
  },
  {
   "cell_type": "code",
   "execution_count": 11,
   "id": "79205c2c-8da3-4d50-a0e5-0878d0b1ce5a",
   "metadata": {},
   "outputs": [],
   "source": [
    "df = pd.DataFrame([178,177,176,177,178.2,178,175,179,180,175,178.9,176.2,177,172.5,178,176.5], columns = ['A'])"
   ]
  },
  {
   "cell_type": "code",
   "execution_count": 13,
   "id": "ee70a544-0355-4c8d-b3f2-569119bf3661",
   "metadata": {},
   "outputs": [
    {
     "data": {
      "text/plain": [
       "A    177.01875\n",
       "dtype: float64"
      ]
     },
     "execution_count": 13,
     "metadata": {},
     "output_type": "execute_result"
    }
   ],
   "source": [
    "df.mean()"
   ]
  },
  {
   "cell_type": "code",
   "execution_count": 14,
   "id": "9c4b18e8-cc0d-43df-91ad-07729ab9987d",
   "metadata": {},
   "outputs": [
    {
     "data": {
      "text/plain": [
       "A    177.0\n",
       "dtype: float64"
      ]
     },
     "execution_count": 14,
     "metadata": {},
     "output_type": "execute_result"
    }
   ],
   "source": [
    "df.median()"
   ]
  },
  {
   "cell_type": "code",
   "execution_count": 15,
   "id": "71a17056-a2e7-4b9b-a9fd-96c9f52feb3f",
   "metadata": {},
   "outputs": [
    {
     "data": {
      "text/html": [
       "<div>\n",
       "<style scoped>\n",
       "    .dataframe tbody tr th:only-of-type {\n",
       "        vertical-align: middle;\n",
       "    }\n",
       "\n",
       "    .dataframe tbody tr th {\n",
       "        vertical-align: top;\n",
       "    }\n",
       "\n",
       "    .dataframe thead th {\n",
       "        text-align: right;\n",
       "    }\n",
       "</style>\n",
       "<table border=\"1\" class=\"dataframe\">\n",
       "  <thead>\n",
       "    <tr style=\"text-align: right;\">\n",
       "      <th></th>\n",
       "      <th>A</th>\n",
       "    </tr>\n",
       "  </thead>\n",
       "  <tbody>\n",
       "    <tr>\n",
       "      <th>0</th>\n",
       "      <td>177.0</td>\n",
       "    </tr>\n",
       "    <tr>\n",
       "      <th>1</th>\n",
       "      <td>178.0</td>\n",
       "    </tr>\n",
       "  </tbody>\n",
       "</table>\n",
       "</div>"
      ],
      "text/plain": [
       "       A\n",
       "0  177.0\n",
       "1  178.0"
      ]
     },
     "execution_count": 15,
     "metadata": {},
     "output_type": "execute_result"
    }
   ],
   "source": [
    "df.mode()"
   ]
  },
  {
   "cell_type": "code",
   "execution_count": 16,
   "id": "b0ca1f7f-8ced-438f-9db6-f20e7ee2b98c",
   "metadata": {},
   "outputs": [],
   "source": [
    "#Q4\n",
    "df = pd.DataFrame([178,177,176,177,178.2,178,175,179,180,175,178.9,176.2,177,172.5,178,176.5],columns = ['A'])"
   ]
  },
  {
   "cell_type": "code",
   "execution_count": 18,
   "id": "d4231bba-fd5b-43cc-a959-bd2fc0750d73",
   "metadata": {},
   "outputs": [
    {
     "data": {
      "text/plain": [
       "A    1.847239\n",
       "dtype: float64"
      ]
     },
     "execution_count": 18,
     "metadata": {},
     "output_type": "execute_result"
    }
   ],
   "source": [
    "df.std()"
   ]
  },
  {
   "cell_type": "code",
   "execution_count": 19,
   "id": "5a5f79fe-3380-4d6a-9149-874d454bfe0d",
   "metadata": {},
   "outputs": [],
   "source": [
    "#Q5\n",
    "# Measures of dispersion such as range, variance and standard deviation depicts information about spread\n",
    "# such as, range tells us in how much range the dispersion is spread, second, variance tells the spread \n",
    "# factor how much it is spread, means the greater the number is the greater the spread, and lastly, \n",
    "# standard deviation tells us the deviation from the mean."
   ]
  },
  {
   "cell_type": "code",
   "execution_count": 20,
   "id": "d0e55533-d9bb-4377-9c93-ee192c72b125",
   "metadata": {},
   "outputs": [],
   "source": [
    "#Q6\n",
    "# Venn diagram tells us the information about the relationship between the set of values."
   ]
  },
  {
   "cell_type": "code",
   "execution_count": 21,
   "id": "971e9677-2859-40d4-9b45-d329dd707b40",
   "metadata": {},
   "outputs": [],
   "source": [
    "#Q7\n",
    "#1. (2,6)\n",
    "#2. (0,2,3,4,5,6,7,8,10) "
   ]
  },
  {
   "cell_type": "code",
   "execution_count": 23,
   "id": "84a13fdf-fa45-4c30-abac-34a1b34382aa",
   "metadata": {},
   "outputs": [],
   "source": [
    "#Q8\n",
    "# Skewness in data means if the mean, median and mode are not equal to each other."
   ]
  },
  {
   "cell_type": "code",
   "execution_count": null,
   "id": "4c7efa33-dfc4-4f17-b28f-f0230250b56f",
   "metadata": {},
   "outputs": [],
   "source": [
    "#Q9\n"
   ]
  }
 ],
 "metadata": {
  "kernelspec": {
   "display_name": "Python 3 (ipykernel)",
   "language": "python",
   "name": "python3"
  },
  "language_info": {
   "codemirror_mode": {
    "name": "ipython",
    "version": 3
   },
   "file_extension": ".py",
   "mimetype": "text/x-python",
   "name": "python",
   "nbconvert_exporter": "python",
   "pygments_lexer": "ipython3",
   "version": "3.10.8"
  }
 },
 "nbformat": 4,
 "nbformat_minor": 5
}
